{
  "nbformat": 4,
  "nbformat_minor": 0,
  "metadata": {
    "colab": {
      "provenance": [],
      "authorship_tag": "ABX9TyP50onzaUS6vhgsSCSgvUx4",
      "include_colab_link": true
    },
    "kernelspec": {
      "name": "python3",
      "display_name": "Python 3"
    },
    "language_info": {
      "name": "python"
    }
  },
  "cells": [
    {
      "cell_type": "markdown",
      "metadata": {
        "id": "view-in-github",
        "colab_type": "text"
      },
      "source": [
        "<a href=\"https://colab.research.google.com/github/cheriehong/cherie-310D_coding_assignment_1/blob/main/Coding_Assignment_1.ipynb\" target=\"_parent\"><img src=\"https://colab.research.google.com/assets/colab-badge.svg\" alt=\"Open In Colab\"/></a>"
      ]
    },
    {
      "cell_type": "markdown",
      "source": [
        "### Import Libraries"
      ],
      "metadata": {
        "id": "OKcEacM0Rk2M"
      }
    },
    {
      "cell_type": "code",
      "source": [
        "# Check if beautifulsoup and pandas are already installed\n",
        "# If not, install it and then import\n",
        "\n",
        "try:\n",
        "    from bs4 import BeautifulSoup\n",
        "    import pandas\n",
        "    print (\"BeautifulSoup and Pandas are already installed and imported\")\n",
        "except:\n",
        "    import sys\n",
        "    !pip install --yes --prefix {sys.prefix} bs4\n",
        "    !pip install --yes --prefix {sys.prefix} pandas\n",
        "    from bs4 import BeautifulSoup\n",
        "    import pandas\n",
        "    print (\"BeautifulSoup and Pandas were not found. Installed them and imported\")\n",
        "\n",
        "import requests\n"
      ],
      "metadata": {
        "colab": {
          "base_uri": "https://localhost:8080/"
        },
        "id": "34yqBf_dc_a2",
        "outputId": "cc8247a1-a94b-457b-9068-6a8caf2e8ad0"
      },
      "execution_count": 128,
      "outputs": [
        {
          "output_type": "stream",
          "name": "stdout",
          "text": [
            "BeautifulSoup and Pandas are already installed and imported\n"
          ]
        }
      ]
    },
    {
      "cell_type": "markdown",
      "source": [
        "## Read the webpage and parse it with BeautifulSoup\n"
      ],
      "metadata": {
        "id": "ip0YHBZUdCXZ"
      }
    },
    {
      "cell_type": "code",
      "execution_count": 129,
      "metadata": {
        "colab": {
          "base_uri": "https://localhost:8080/"
        },
        "id": "nW6rQcSeRVqH",
        "outputId": "06a5e4c2-8cdf-432d-c4aa-5fe99acfb100"
      },
      "outputs": [
        {
          "output_type": "stream",
          "name": "stdout",
          "text": [
            "Webpage opened successfully...\n",
            "Webpage loaded and parsed successfully...\n"
          ]
        }
      ],
      "source": [
        "opened_webpage = requests.get(\"https://en.wikipedia.org/wiki/List_of_the_largest_population_centres_in_Canada\")\n",
        "print (\"Webpage opened successfully...\")\n",
        "\n",
        "# Initialize a BeautifulSoup object to read and parse the webpage read\n",
        "# This is like calling the __init__ function in BeautifulSoup\n",
        "bs = BeautifulSoup(opened_webpage.content, \"html.parser\")\n",
        "print (\"Webpage loaded and parsed successfully...\")"
      ]
    },
    {
      "cell_type": "markdown",
      "source": [
        "## 1. Data Extraction"
      ],
      "metadata": {
        "id": "BepFhxczR3lN"
      }
    },
    {
      "cell_type": "code",
      "source": [
        "# Define an empty list where the data will be kept\n",
        "raw_data = []\n",
        "\n",
        "# Find all the tables in the webpage page that we have just parsed\n",
        "table = bs.find_all(\"table\", {'class':\"wikitable\"})\n",
        "\n",
        "for row in table:\n",
        "    line = row.text\n",
        "    raw_data.append(line)\n",
        "\n",
        "print(raw_data)"
      ],
      "metadata": {
        "colab": {
          "base_uri": "https://localhost:8080/"
        },
        "id": "Zezn5m_USAyO",
        "outputId": "c4cf9351-839f-4259-b376-bb4215710c42"
      },
      "execution_count": 130,
      "outputs": [
        {
          "output_type": "stream",
          "name": "stdout",
          "text": [
            "[\"\\n\\nRank\\n\\nPopulation centre[5]\\n\\nProvince[5]\\n\\nSize group[5]\\n\\nPopulation (2021)[5]\\n\\nPopulation (2016)[5]\\n\\nChange[5]\\n\\nLand area (km2)[5]\\n\\nPopulation density (/km2)[5]\\n\\n\\n1\\nToronto\\nOntario\\nLarge urban\\n5,647,656\\n\\n5,433,590\\n\\n+3.9%\\n1,829.05\\n3,087.8\\n\\n\\n2\\nMontreal\\nQuebec\\nLarge urban\\n3,675,219\\n\\n3,528,651\\n\\n+4.2%\\n1,382.47\\n2,658.4\\n\\n\\n3\\nVancouver\\nBritish Columbia\\nLarge urban\\n2,426,160\\n\\n2,268,864\\n\\n+6.9%\\n911.64\\n2,661.3\\n\\n\\n4\\nCalgary\\nAlberta\\nLarge urban\\n1,305,550\\n\\n1,240,413\\n\\n+5.3%\\n621.72\\n2,099.9\\n\\n\\n5\\nEdmonton\\nAlberta\\nLarge urban\\n1,151,635\\n\\n1,070,998\\n\\n+7.5%\\n627.2\\n1,836.2\\n\\n\\n6\\nOttawa–Gatineau\\nOntario / Quebec\\nLarge urban\\n1,068,821\\n\\n994,576\\n\\n+7.5%\\n549.49\\n1,945.1\\n\\n\\n7\\nWinnipeg\\nManitoba\\nLarge urban\\n758,515\\n\\n712,858\\n\\n+6.4%\\n356.99\\n2,124.8\\n\\n\\n8\\nQuebec City\\nQuebec\\nLarge urban\\n733,156\\n\\n708,280\\n\\n+3.5%\\n442.85\\n1,655.5\\n\\n\\n9\\nHamilton\\nOntario\\nLarge urban\\n729,560\\n\\n693,362\\n\\n+5.2%\\n356.03\\n2,049.2\\n\\n\\n10\\nKitchener\\nOntario\\nLarge urban\\n522,888\\n\\n473,230\\n\\n+10.5%\\n296.45\\n1,763.8\\n\\n\\n11\\nLondon\\nOntario\\nLarge urban\\n423,369\\n\\n384,784\\n\\n+10.0%\\n244.97\\n1,728.2\\n\\n\\n12\\nVictoria\\nBritish Columbia\\nLarge urban\\n363,222\\n\\n337,235\\n\\n+7.7%\\n222.71\\n1,630.9\\n\\n\\n13\\nHalifax\\nNova Scotia\\nLarge urban\\n348,634\\n\\n317,334\\n\\n+9.9%\\n238.29\\n1,463.1\\n\\n\\n14\\nOshawa\\nOntario\\nLarge urban\\n335,949\\n\\n309,759\\n\\n+8.5%\\n159.79\\n2,102.4\\n\\n\\n15\\nWindsor\\nOntario\\nLarge urban\\n306,519\\n\\n288,363\\n\\n+6.3%\\n184.96\\n1,657.2\\n\\n\\n16\\nSaskatoon\\nSaskatchewan\\nLarge urban\\n264,637\\n\\n245,904\\n\\n+7.6%\\n134.63\\n1,965.7\\n\\n\\n17\\nSt. Catharines – Niagara Falls\\nOntario\\nLarge urban\\n242,460\\n\\n229,776\\n\\n+5.5%\\n140.59\\n1,724.6\\n\\n\\n18\\nRegina\\nSaskatchewan\\nLarge urban\\n224,996\\n\\n214,664\\n\\n+4.8%\\n105.61\\n2,130.4\\n\\n\\n19\\nSt. John's\\nNewfoundland and Labrador\\nLarge urban\\n185,565\\n\\n181,955\\n\\n+2.0%\\n178\\n1,042.5\\n\\n\\n20\\nKelowna\\nBritish Columbia\\nLarge urban\\n181,380\\n\\n160,095\\n\\n+13.3%\\n168.92\\n1,073.8\\n\\n\\n21\\nBarrie\\nOntario\\nLarge urban\\n154,676\\n\\n146,394\\n\\n+5.7%\\n95.33\\n1,622.5\\n\\n\\n22\\nSherbrooke\\nQuebec\\nLarge urban\\n151,157\\n\\n140,300\\n\\n+7.7%\\n102.61\\n1,473.1\\n\\n\\n23\\nGuelph\\nOntario\\nLarge urban\\n144,356\\n\\n132,705\\n\\n+8.8%\\n79.57\\n1,814.2\\n\\n\\n24\\nKanata\\nOntario\\nLarge urban\\n137,118\\n\\n118,308\\n\\n+15.9%\\n62.35\\n2,199.2\\n\\n\\n25\\nAbbotsford\\nBritish Columbia\\nLarge urban\\n132,300\\n\\n122,163\\n\\n+8.3%\\n71.2\\n1,858.1\\n\\n\\n26\\nTrois-Rivières\\nQuebec\\nLarge urban\\n128,057\\n\\n124,158\\n\\n+3.1%\\n98.58\\n1,299.0\\n\\n\\n27\\nKingston\\nOntario\\nLarge urban\\n127,943\\n\\n119,061\\n\\n+7.5%\\n83.43\\n1,533.5\\n\\n\\n28\\nMilton\\nOntario\\nLarge urban\\n124,579\\n\\n101,885\\n\\n+22.3%\\n45.2\\n2,756.2\\n\\n\\n29\\nMoncton\\nNew Brunswick\\nLarge urban\\n119,785\\n\\n109,075\\n\\n+9.8%\\n110.73\\n1,081.8\\n\\n\\n30\\nWhite Rock\\nBritish Columbia\\nLarge urban\\n109,167\\n\\n93,811\\n\\n+16.4%\\n54.23\\n2,013.0\\n\\n\\n31\\nNanaimo\\nBritish Columbia\\nLarge urban\\n106,079\\n\\n96,415\\n\\n+10.0%\\n86.76\\n1,222.7\\n\\n\\n32\\nBrantford\\nOntario\\nLarge urban\\n104,413\\n\\n98,250\\n\\n+6.3%\\n62.13\\n1,680.6\\n\\n\\n33\\nChicoutimi – Jonquière\\nQuebec\\nLarge urban\\n103,934\\n\\n104,741\\n\\n−0.8%\\n94.56\\n1,099.1\\n\\n\\n34\\nSaint-Jérôme\\nQuebec\\nLarge urban\\n100,859\\n\\n91,205\\n\\n+10.6%\\n96.97\\n1,040.1\\n\\n\\n35\\nRed Deer\\nAlberta\\nMedium\\n99,846\\n\\n99,773\\n\\n+0.1%\\n65.93\\n1,514.4\\n\\n\\n36\\nThunder Bay\\nOntario\\nMedium\\n95,266\\n\\n94,767\\n\\n+0.5%\\n76.03\\n1,253.0\\n\\n\\n37\\nLethbridge\\nAlberta\\nMedium\\n92,563\\n\\n89,309\\n\\n+3.6%\\n64\\n1,446.3\\n\\n\\n38\\nKamloops\\nBritish Columbia\\nMedium\\n92,442\\n\\n85,702\\n\\n+7.9%\\n74.35\\n1,243.3\\n\\n\\n39\\nSudbury\\nOntario\\nMedium\\n92,093\\n\\n88,155\\n\\n+4.5%\\n75.79\\n1,215.1\\n\\n\\n40\\nSaint-Jean-sur-Richelieu\\nQuebec\\nMedium\\n88,083\\n\\n85,022\\n\\n+3.6%\\n53.8\\n1,637.2\\n\\n\\n41\\nPeterborough\\nOntario\\nMedium\\n84,793\\n\\n82,149\\n\\n+3.2%\\n54.58\\n1,553.6\\n\\n\\n42\\nChilliwack\\nBritish Columbia\\nMedium\\n81,622\\n\\n73,171\\n\\n+11.5%\\n56.02\\n1,457.0\\n\\n\\n43\\nChâteauguay\\nQuebec\\nMedium\\n75,891\\n\\n71,164\\n\\n+6.6%\\n50.48\\n1,503.4\\n\\n\\n44\\nBelleville\\nOntario\\nMedium\\n75,052\\n\\n68,859\\n\\n+9.0%\\n89.48\\n838.8\\n\\n\\n45\\nSarnia\\nOntario\\nMedium\\n73,944\\n\\n73,403\\n\\n+0.7%\\n60.53\\n1,221.6\\n\\n\\n46\\nAirdrie\\nAlberta\\nMedium\\n73,578\\n\\n61,082\\n\\n+20.5%\\n33.03\\n2,227.6\\n\\n\\n47\\nDrummondville\\nQuebec\\nMedium\\n72,089\\n\\n68,634\\n\\n+5.0%\\n52.3\\n1,378.4\\n\\n\\n48\\nWelland – Pelham\\nOntario\\nMedium\\n69,302\\n\\n63,011\\n\\n+10.0%\\n57.21\\n1,211.4\\n\\n\\n49\\nFort McMurray\\nAlberta\\nMedium\\n68,002\\n\\n67,123\\n\\n+1.3%\\n52.17\\n1,303.5\\n\\n\\n50\\nPrince George\\nBritish Columbia\\nMedium\\n67,339\\n\\n66,315\\n\\n+1.5%\\n73.9\\n911.2\\n\\n\\n51\\nSault Ste. Marie\\nOntario\\nMedium\\n64,923\\n\\n66,313\\n\\n−2.1%\\n52.97\\n1,225.7\\n\\n\\n52\\nFredericton\\nNew Brunswick\\nMedium\\n64,614\\n\\n61,014\\n\\n+5.9%\\n89.6\\n721.1\\n\\n\\n53\\nSaint John\\nNew Brunswick\\nMedium\\n63,447\\n\\n61,152\\n\\n+3.8%\\n70.05\\n905.7\\n\\n\\n54\\nMedicine Hat\\nAlberta\\nMedium\\n63,382\\n\\n63,111\\n\\n+0.4%\\n53.2\\n1,191.4\\n\\n\\n55\\nGrande Prairie\\nAlberta\\nMedium\\n63,172\\n\\n62,382\\n\\n+1.3%\\n49.74\\n1,270.0\\n\\n\\n56\\nGranby\\nQuebec\\nMedium\\n62,624\\n\\n59,706\\n\\n+4.9%\\n48.39\\n1,294.2\\n\\n\\n57\\nBowmanville – Newcastle\\nOntario\\nMedium\\n56,742\\n\\n48,929\\n\\n+16.0%\\n31.23\\n1,816.9\\n\\n\\n58\\nBeloeil\\nQuebec\\nMedium\\n52,959\\n\\n51,132\\n\\n+3.6%\\n26.5\\n1,998.5\\n\\n\\n59\\nCharlottetown\\nPrince Edward Island\\nMedium\\n52,390\\n\\n48,054\\n\\n+9.0%\\n57.56\\n910.2\\n\\n\\n60\\nVernon\\nBritish Columbia\\nMedium\\n51,896\\n\\n48,425\\n\\n+7.2%\\n51.16\\n1,014.4\\n\\n\\n61\\nNorth Bay\\nOntario\\nMedium\\n51,433\\n\\n50,396\\n\\n+2.1%\\n64.91\\n792.4\\n\\n\\n62\\nSaint-Hyacinthe\\nQuebec\\nMedium\\n50,616\\n\\n50,104\\n\\n+1.0%\\n30.8\\n1,643.4\\n\\n\\n63\\nBrandon\\nManitoba\\nMedium\\n50,532\\n\\n48,345\\n\\n+4.5%\\n28.73\\n1,758.9\\n\\n\\n64\\nJoliette\\nQuebec\\nMedium\\n49,246\\n\\n46,277\\n\\n+6.4%\\n39.03\\n1,261.7\\n\\n\\n65\\nCourtenay\\nBritish Columbia\\nMedium\\n48,917\\n\\n45,314\\n\\n+8.0%\\n56.58\\n864.6\\n\\n\\n66\\nCornwall\\nOntario\\nMedium\\n47,286\\n\\n46,114\\n\\n+2.5%\\n32.4\\n1,459.4\\n\\n\\n67\\nVictoriaville\\nQuebec\\nMedium\\n46,322\\n\\n44,735\\n\\n+3.5%\\n35.27\\n1,313.4\\n\\n\\n68\\nWoodstock\\nOntario\\nMedium\\n46,296\\n\\n40,614\\n\\n+14.0%\\n34.41\\n1,345.4\\n\\n\\n69\\nSt. Thomas\\nOntario\\nMedium\\n45,732\\n\\n41,834\\n\\n+9.3%\\n28.1\\n1,627.5\\n\\n\\n70\\nChatham\\nOntario\\nMedium\\n45,171\\n\\n43,550\\n\\n+3.7%\\n31.21\\n1,447.3\\n\\n\\n71\\nGeorgetown\\nOntario\\nMedium\\n44,058\\n\\n42,326\\n\\n+4.1%\\n25.7\\n1,714.3\\n\\n\\n72\\nSalaberry-de-Valleyfield\\nQuebec\\nMedium\\n41,655\\n\\n39,655\\n\\n+5.0%\\n33.93\\n1,227.7\\n\\n\\n73\\nSpruce Grove\\nAlberta\\nMedium\\n39,348\\n\\n36,279\\n\\n+8.5%\\n29.76\\n1,322.2\\n\\n\\n74\\nShawinigan\\nQuebec\\nMedium\\n38,930\\n\\n38,695\\n\\n+0.6%\\n31.77\\n1,225.4\\n\\n\\n75\\nRimouski\\nQuebec\\nMedium\\n38,708\\n\\n38,478\\n\\n+0.6%\\n27.79\\n1,392.9\\n\\n\\n76\\nBradford\\nOntario\\nMedium\\n38,128\\n\\n30,765\\n\\n+23.9%\\n16.1\\n2,368.2\\n\\n\\n77\\nCampbell River\\nBritish Columbia\\nMedium\\n38,108\\n\\n35,440\\n\\n+7.5%\\n33\\n1,154.8\\n\\n\\n78\\nPenticton\\nBritish Columbia\\nMedium\\n36,893\\n\\n33,899\\n\\n+8.8%\\n25.84\\n1,427.7\\n\\n\\n79\\nPrince Albert\\nSaskatchewan\\nMedium\\n36,768\\n\\n35,102\\n\\n+4.7%\\n21.37\\n1,720.5\\n\\n\\n80\\nStouffville\\nOntario\\nMedium\\n36,753\\n\\n32,634\\n\\n+12.6%\\n14.17\\n2,593.7\\n\\n\\n81\\nSorel\\nQuebec\\nMedium\\n36,650\\n\\n36,365\\n\\n+0.8%\\n30.61\\n1,197.3\\n\\n\\n82\\nMission\\nBritish Columbia\\nMedium\\n36,193\\n\\n33,713\\n\\n+7.4%\\n27.23\\n1,329.2\\n\\n\\n83\\nLeamington\\nOntario\\nMedium\\n35,730\\n\\n33,049\\n\\n+8.1%\\n31.77\\n1,124.6\\n\\n\\n84\\nOrangeville\\nOntario\\nMedium\\n34,177\\n\\n32,318\\n\\n+5.8%\\n19.77\\n1,728.7\\n\\n\\n85\\nLeduc\\nAlberta\\nMedium\\n33,505\\n\\n29,561\\n\\n+13.3%\\n67.43\\n496.9\\n\\n\\n86\\nOrillia\\nOntario\\nMedium\\n33,379\\n\\n31,128\\n\\n+7.2%\\n22.68\\n1,471.7\\n\\n\\n87\\nStratford\\nOntario\\nMedium\\n32,878\\n\\n31,094\\n\\n+5.7%\\n23.3\\n1,411.1\\n\\n\\n88\\nMoose Jaw\\nSaskatchewan\\nMedium\\n32,813\\n\\n32,993\\n\\n−0.5%\\n22.14\\n1,482.1\\n\\n\\n89\\nCochrane\\nAlberta\\nMedium\\n31,638\\n\\n25,501\\n\\n+24.1%\\n23.71\\n1,334.4\\n\\n\\n90\\nLloydminster\\nAlberta / Saskatchewan\\nMedium\\n31,582\\n\\n31,400\\n\\n+0.6%\\n24.43\\n1,292.8\\n\\n\\n91\\nCape Breton – Sydney\\nNova Scotia\\nMedium\\n30,960\\n\\n30,170\\n\\n+2.6%\\n30.91\\n1,001.6\\n\\n\\n92\\nOkotoks\\nAlberta\\nMedium\\n30,214\\n\\n28,833\\n\\n+4.8%\\n17.23\\n1,753.6\\n\\n\\n93\\nInnisfil\\nOntario\\nSmall\\n29,464\\n\\n24,277\\n\\n+21.4%\\n23.71\\n1,242.7\\n\\n\\n94\\nTimmins\\nOntario\\nSmall\\n28,874\\n\\n29,331\\n\\n−1.6%\\n18.49\\n1,561.6\\n\\n\\n95\\nSaint-Georges\\nQuebec\\nSmall\\n27,402\\n\\n27,103\\n\\n+1.1%\\n27.09\\n1,011.5\\n\\n\\n96\\nParksville\\nBritish Columbia\\nSmall\\n27,330\\n\\n25,364\\n\\n+7.8%\\n27.45\\n995.6\\n\\n\\n97\\nKeswick – Elmhurst Beach\\nOntario\\nSmall\\n27,145\\n\\n26,999\\n\\n+0.5%\\n16.56\\n1,639.2\\n\\n\\n98\\nFort Saskatchewan\\nAlberta\\nSmall\\n26,831\\n\\n23,944\\n\\n+12.1%\\n21.85\\n1,228.0\\n\\n\\n99\\nBolton\\nOntario\\nSmall\\n26,795\\n\\n26,378\\n\\n+1.6%\\n20.71\\n1,293.8\\n\\n\\n100\\nMidland\\nOntario\\nSmall\\n26,246\\n\\n24,443\\n\\n+7.4%\\n27.41\\n957.5\\n\\n\"]\n"
          ]
        }
      ]
    },
    {
      "cell_type": "markdown",
      "source": [
        "## 2.1 Transform"
      ],
      "metadata": {
        "id": "5uT3uUMdSByD"
      }
    },
    {
      "cell_type": "markdown",
      "source": [
        "\n",
        "*  Define a list of columns and store the column names in the list List item\n",
        "*  Extract one row from raw data at a time, make a dictionary (key-value pair) out of it, where the keys are the column names and values are the entries\n",
        "\n",
        "\n"
      ],
      "metadata": {
        "id": "W_CRZFgNSTyx"
      }
    },
    {
      "cell_type": "code",
      "source": [
        "column_names = [\"Rank\", \"Population centre[5]\", \"Province[5]\", \"Size group[5]\", \"Population (2021)[5]\",\n",
        "                \"Population (2016)[5]\", \"Change[5]\", \"Land area (km2)[5]\", \"Population density (/km2)[5]\"]\n",
        "\n",
        "final_data = []\n",
        "for data in raw_data:\n",
        "    entries = data.split(\"\\n\") # this will return a list of strings\n",
        "    for i in column_names:\n",
        "      entries.remove(i)\n",
        "\n",
        "row = []  # empty list for every row\n",
        "count = 0 # set loop variable to zero\n",
        "for entry in entries:\n",
        "    if entry != '': # this will skip empty spaces\n",
        "      count += 1\n",
        "      if count < 9:\n",
        "        row.append(entry) # add data point to list row\n",
        "      else:\n",
        "        row.append(entry) # add entry to list row\n",
        "        final_data.append(row) # add list row to list final_data\n",
        "        count = 0 # reset count variable to zero\n",
        "        row = [] # reset empty row list to start new list row\n",
        "    else:\n",
        "      continue # if data point is empty space continue on to next data point\n",
        "\n",
        "# Sanity check - let's print the first 5 rows\n",
        "print(final_data[:5])\n",
        "\n"
      ],
      "metadata": {
        "colab": {
          "base_uri": "https://localhost:8080/"
        },
        "id": "BO117Z_xzx3k",
        "outputId": "185b4bdb-9c84-4f57-93c1-172f03a0cb14"
      },
      "execution_count": 131,
      "outputs": [
        {
          "output_type": "stream",
          "name": "stdout",
          "text": [
            "[['1', 'Toronto', 'Ontario', 'Large urban', '5,647,656', '5,433,590', '+3.9%', '1,829.05', '3,087.8'], ['2', 'Montreal', 'Quebec', 'Large urban', '3,675,219', '3,528,651', '+4.2%', '1,382.47', '2,658.4'], ['3', 'Vancouver', 'British Columbia', 'Large urban', '2,426,160', '2,268,864', '+6.9%', '911.64', '2,661.3'], ['4', 'Calgary', 'Alberta', 'Large urban', '1,305,550', '1,240,413', '+5.3%', '621.72', '2,099.9'], ['5', 'Edmonton', 'Alberta', 'Large urban', '1,151,635', '1,070,998', '+7.5%', '627.2', '1,836.2']]\n"
          ]
        }
      ]
    },
    {
      "cell_type": "markdown",
      "source": [
        "Convert to DataFrame\n",
        "\n",
        "\n",
        "\n",
        "*   A DataFrame is a data structure that organizes data into a 2-dimensional table of rows and columns, much like a spreadsheet. DataFrames are one of the most common data structures used in modern data analytics because they are a flexible and intuitive way of storing and working with data.\n",
        "*   We use **Pandas** to convert our data into dataframe\n",
        "\n",
        "\n"
      ],
      "metadata": {
        "id": "6kNQE2-qSb7U"
      }
    },
    {
      "cell_type": "code",
      "source": [
        "final_data = pandas.DataFrame(final_data, columns = column_names)\n",
        "\n",
        "# Print a few elements in the dataframe\n",
        "final_data.head()"
      ],
      "metadata": {
        "colab": {
          "base_uri": "https://localhost:8080/",
          "height": 241
        },
        "id": "wc_NPdCL0zcd",
        "outputId": "b9fe4f0b-c834-4aa8-a71e-c9abb3d8f756"
      },
      "execution_count": 132,
      "outputs": [
        {
          "output_type": "execute_result",
          "data": {
            "text/plain": [
              "  Rank Population centre[5]       Province[5] Size group[5]  \\\n",
              "0    1              Toronto           Ontario   Large urban   \n",
              "1    2             Montreal            Quebec   Large urban   \n",
              "2    3            Vancouver  British Columbia   Large urban   \n",
              "3    4              Calgary           Alberta   Large urban   \n",
              "4    5             Edmonton           Alberta   Large urban   \n",
              "\n",
              "  Population (2021)[5] Population (2016)[5] Change[5] Land area (km2)[5]  \\\n",
              "0            5,647,656            5,433,590     +3.9%           1,829.05   \n",
              "1            3,675,219            3,528,651     +4.2%           1,382.47   \n",
              "2            2,426,160            2,268,864     +6.9%             911.64   \n",
              "3            1,305,550            1,240,413     +5.3%             621.72   \n",
              "4            1,151,635            1,070,998     +7.5%              627.2   \n",
              "\n",
              "  Population density (/km2)[5]  \n",
              "0                      3,087.8  \n",
              "1                      2,658.4  \n",
              "2                      2,661.3  \n",
              "3                      2,099.9  \n",
              "4                      1,836.2  "
            ],
            "text/html": [
              "\n",
              "  <div id=\"df-e05296f9-d0cf-4709-b83e-b2a5fc0a00f1\" class=\"colab-df-container\">\n",
              "    <div>\n",
              "<style scoped>\n",
              "    .dataframe tbody tr th:only-of-type {\n",
              "        vertical-align: middle;\n",
              "    }\n",
              "\n",
              "    .dataframe tbody tr th {\n",
              "        vertical-align: top;\n",
              "    }\n",
              "\n",
              "    .dataframe thead th {\n",
              "        text-align: right;\n",
              "    }\n",
              "</style>\n",
              "<table border=\"1\" class=\"dataframe\">\n",
              "  <thead>\n",
              "    <tr style=\"text-align: right;\">\n",
              "      <th></th>\n",
              "      <th>Rank</th>\n",
              "      <th>Population centre[5]</th>\n",
              "      <th>Province[5]</th>\n",
              "      <th>Size group[5]</th>\n",
              "      <th>Population (2021)[5]</th>\n",
              "      <th>Population (2016)[5]</th>\n",
              "      <th>Change[5]</th>\n",
              "      <th>Land area (km2)[5]</th>\n",
              "      <th>Population density (/km2)[5]</th>\n",
              "    </tr>\n",
              "  </thead>\n",
              "  <tbody>\n",
              "    <tr>\n",
              "      <th>0</th>\n",
              "      <td>1</td>\n",
              "      <td>Toronto</td>\n",
              "      <td>Ontario</td>\n",
              "      <td>Large urban</td>\n",
              "      <td>5,647,656</td>\n",
              "      <td>5,433,590</td>\n",
              "      <td>+3.9%</td>\n",
              "      <td>1,829.05</td>\n",
              "      <td>3,087.8</td>\n",
              "    </tr>\n",
              "    <tr>\n",
              "      <th>1</th>\n",
              "      <td>2</td>\n",
              "      <td>Montreal</td>\n",
              "      <td>Quebec</td>\n",
              "      <td>Large urban</td>\n",
              "      <td>3,675,219</td>\n",
              "      <td>3,528,651</td>\n",
              "      <td>+4.2%</td>\n",
              "      <td>1,382.47</td>\n",
              "      <td>2,658.4</td>\n",
              "    </tr>\n",
              "    <tr>\n",
              "      <th>2</th>\n",
              "      <td>3</td>\n",
              "      <td>Vancouver</td>\n",
              "      <td>British Columbia</td>\n",
              "      <td>Large urban</td>\n",
              "      <td>2,426,160</td>\n",
              "      <td>2,268,864</td>\n",
              "      <td>+6.9%</td>\n",
              "      <td>911.64</td>\n",
              "      <td>2,661.3</td>\n",
              "    </tr>\n",
              "    <tr>\n",
              "      <th>3</th>\n",
              "      <td>4</td>\n",
              "      <td>Calgary</td>\n",
              "      <td>Alberta</td>\n",
              "      <td>Large urban</td>\n",
              "      <td>1,305,550</td>\n",
              "      <td>1,240,413</td>\n",
              "      <td>+5.3%</td>\n",
              "      <td>621.72</td>\n",
              "      <td>2,099.9</td>\n",
              "    </tr>\n",
              "    <tr>\n",
              "      <th>4</th>\n",
              "      <td>5</td>\n",
              "      <td>Edmonton</td>\n",
              "      <td>Alberta</td>\n",
              "      <td>Large urban</td>\n",
              "      <td>1,151,635</td>\n",
              "      <td>1,070,998</td>\n",
              "      <td>+7.5%</td>\n",
              "      <td>627.2</td>\n",
              "      <td>1,836.2</td>\n",
              "    </tr>\n",
              "  </tbody>\n",
              "</table>\n",
              "</div>\n",
              "    <div class=\"colab-df-buttons\">\n",
              "\n",
              "  <div class=\"colab-df-container\">\n",
              "    <button class=\"colab-df-convert\" onclick=\"convertToInteractive('df-e05296f9-d0cf-4709-b83e-b2a5fc0a00f1')\"\n",
              "            title=\"Convert this dataframe to an interactive table.\"\n",
              "            style=\"display:none;\">\n",
              "\n",
              "  <svg xmlns=\"http://www.w3.org/2000/svg\" height=\"24px\" viewBox=\"0 -960 960 960\">\n",
              "    <path d=\"M120-120v-720h720v720H120Zm60-500h600v-160H180v160Zm220 220h160v-160H400v160Zm0 220h160v-160H400v160ZM180-400h160v-160H180v160Zm440 0h160v-160H620v160ZM180-180h160v-160H180v160Zm440 0h160v-160H620v160Z\"/>\n",
              "  </svg>\n",
              "    </button>\n",
              "\n",
              "  <style>\n",
              "    .colab-df-container {\n",
              "      display:flex;\n",
              "      gap: 12px;\n",
              "    }\n",
              "\n",
              "    .colab-df-convert {\n",
              "      background-color: #E8F0FE;\n",
              "      border: none;\n",
              "      border-radius: 50%;\n",
              "      cursor: pointer;\n",
              "      display: none;\n",
              "      fill: #1967D2;\n",
              "      height: 32px;\n",
              "      padding: 0 0 0 0;\n",
              "      width: 32px;\n",
              "    }\n",
              "\n",
              "    .colab-df-convert:hover {\n",
              "      background-color: #E2EBFA;\n",
              "      box-shadow: 0px 1px 2px rgba(60, 64, 67, 0.3), 0px 1px 3px 1px rgba(60, 64, 67, 0.15);\n",
              "      fill: #174EA6;\n",
              "    }\n",
              "\n",
              "    .colab-df-buttons div {\n",
              "      margin-bottom: 4px;\n",
              "    }\n",
              "\n",
              "    [theme=dark] .colab-df-convert {\n",
              "      background-color: #3B4455;\n",
              "      fill: #D2E3FC;\n",
              "    }\n",
              "\n",
              "    [theme=dark] .colab-df-convert:hover {\n",
              "      background-color: #434B5C;\n",
              "      box-shadow: 0px 1px 3px 1px rgba(0, 0, 0, 0.15);\n",
              "      filter: drop-shadow(0px 1px 2px rgba(0, 0, 0, 0.3));\n",
              "      fill: #FFFFFF;\n",
              "    }\n",
              "  </style>\n",
              "\n",
              "    <script>\n",
              "      const buttonEl =\n",
              "        document.querySelector('#df-e05296f9-d0cf-4709-b83e-b2a5fc0a00f1 button.colab-df-convert');\n",
              "      buttonEl.style.display =\n",
              "        google.colab.kernel.accessAllowed ? 'block' : 'none';\n",
              "\n",
              "      async function convertToInteractive(key) {\n",
              "        const element = document.querySelector('#df-e05296f9-d0cf-4709-b83e-b2a5fc0a00f1');\n",
              "        const dataTable =\n",
              "          await google.colab.kernel.invokeFunction('convertToInteractive',\n",
              "                                                    [key], {});\n",
              "        if (!dataTable) return;\n",
              "\n",
              "        const docLinkHtml = 'Like what you see? Visit the ' +\n",
              "          '<a target=\"_blank\" href=https://colab.research.google.com/notebooks/data_table.ipynb>data table notebook</a>'\n",
              "          + ' to learn more about interactive tables.';\n",
              "        element.innerHTML = '';\n",
              "        dataTable['output_type'] = 'display_data';\n",
              "        await google.colab.output.renderOutput(dataTable, element);\n",
              "        const docLink = document.createElement('div');\n",
              "        docLink.innerHTML = docLinkHtml;\n",
              "        element.appendChild(docLink);\n",
              "      }\n",
              "    </script>\n",
              "  </div>\n",
              "\n",
              "\n",
              "<div id=\"df-a28a7383-3f07-40c4-817f-2514e5da877b\">\n",
              "  <button class=\"colab-df-quickchart\" onclick=\"quickchart('df-a28a7383-3f07-40c4-817f-2514e5da877b')\"\n",
              "            title=\"Suggest charts.\"\n",
              "            style=\"display:none;\">\n",
              "\n",
              "<svg xmlns=\"http://www.w3.org/2000/svg\" height=\"24px\"viewBox=\"0 0 24 24\"\n",
              "     width=\"24px\">\n",
              "    <g>\n",
              "        <path d=\"M19 3H5c-1.1 0-2 .9-2 2v14c0 1.1.9 2 2 2h14c1.1 0 2-.9 2-2V5c0-1.1-.9-2-2-2zM9 17H7v-7h2v7zm4 0h-2V7h2v10zm4 0h-2v-4h2v4z\"/>\n",
              "    </g>\n",
              "</svg>\n",
              "  </button>\n",
              "\n",
              "<style>\n",
              "  .colab-df-quickchart {\n",
              "      --bg-color: #E8F0FE;\n",
              "      --fill-color: #1967D2;\n",
              "      --hover-bg-color: #E2EBFA;\n",
              "      --hover-fill-color: #174EA6;\n",
              "      --disabled-fill-color: #AAA;\n",
              "      --disabled-bg-color: #DDD;\n",
              "  }\n",
              "\n",
              "  [theme=dark] .colab-df-quickchart {\n",
              "      --bg-color: #3B4455;\n",
              "      --fill-color: #D2E3FC;\n",
              "      --hover-bg-color: #434B5C;\n",
              "      --hover-fill-color: #FFFFFF;\n",
              "      --disabled-bg-color: #3B4455;\n",
              "      --disabled-fill-color: #666;\n",
              "  }\n",
              "\n",
              "  .colab-df-quickchart {\n",
              "    background-color: var(--bg-color);\n",
              "    border: none;\n",
              "    border-radius: 50%;\n",
              "    cursor: pointer;\n",
              "    display: none;\n",
              "    fill: var(--fill-color);\n",
              "    height: 32px;\n",
              "    padding: 0;\n",
              "    width: 32px;\n",
              "  }\n",
              "\n",
              "  .colab-df-quickchart:hover {\n",
              "    background-color: var(--hover-bg-color);\n",
              "    box-shadow: 0 1px 2px rgba(60, 64, 67, 0.3), 0 1px 3px 1px rgba(60, 64, 67, 0.15);\n",
              "    fill: var(--button-hover-fill-color);\n",
              "  }\n",
              "\n",
              "  .colab-df-quickchart-complete:disabled,\n",
              "  .colab-df-quickchart-complete:disabled:hover {\n",
              "    background-color: var(--disabled-bg-color);\n",
              "    fill: var(--disabled-fill-color);\n",
              "    box-shadow: none;\n",
              "  }\n",
              "\n",
              "  .colab-df-spinner {\n",
              "    border: 2px solid var(--fill-color);\n",
              "    border-color: transparent;\n",
              "    border-bottom-color: var(--fill-color);\n",
              "    animation:\n",
              "      spin 1s steps(1) infinite;\n",
              "  }\n",
              "\n",
              "  @keyframes spin {\n",
              "    0% {\n",
              "      border-color: transparent;\n",
              "      border-bottom-color: var(--fill-color);\n",
              "      border-left-color: var(--fill-color);\n",
              "    }\n",
              "    20% {\n",
              "      border-color: transparent;\n",
              "      border-left-color: var(--fill-color);\n",
              "      border-top-color: var(--fill-color);\n",
              "    }\n",
              "    30% {\n",
              "      border-color: transparent;\n",
              "      border-left-color: var(--fill-color);\n",
              "      border-top-color: var(--fill-color);\n",
              "      border-right-color: var(--fill-color);\n",
              "    }\n",
              "    40% {\n",
              "      border-color: transparent;\n",
              "      border-right-color: var(--fill-color);\n",
              "      border-top-color: var(--fill-color);\n",
              "    }\n",
              "    60% {\n",
              "      border-color: transparent;\n",
              "      border-right-color: var(--fill-color);\n",
              "    }\n",
              "    80% {\n",
              "      border-color: transparent;\n",
              "      border-right-color: var(--fill-color);\n",
              "      border-bottom-color: var(--fill-color);\n",
              "    }\n",
              "    90% {\n",
              "      border-color: transparent;\n",
              "      border-bottom-color: var(--fill-color);\n",
              "    }\n",
              "  }\n",
              "</style>\n",
              "\n",
              "  <script>\n",
              "    async function quickchart(key) {\n",
              "      const quickchartButtonEl =\n",
              "        document.querySelector('#' + key + ' button');\n",
              "      quickchartButtonEl.disabled = true;  // To prevent multiple clicks.\n",
              "      quickchartButtonEl.classList.add('colab-df-spinner');\n",
              "      try {\n",
              "        const charts = await google.colab.kernel.invokeFunction(\n",
              "            'suggestCharts', [key], {});\n",
              "      } catch (error) {\n",
              "        console.error('Error during call to suggestCharts:', error);\n",
              "      }\n",
              "      quickchartButtonEl.classList.remove('colab-df-spinner');\n",
              "      quickchartButtonEl.classList.add('colab-df-quickchart-complete');\n",
              "    }\n",
              "    (() => {\n",
              "      let quickchartButtonEl =\n",
              "        document.querySelector('#df-a28a7383-3f07-40c4-817f-2514e5da877b button');\n",
              "      quickchartButtonEl.style.display =\n",
              "        google.colab.kernel.accessAllowed ? 'block' : 'none';\n",
              "    })();\n",
              "  </script>\n",
              "</div>\n",
              "    </div>\n",
              "  </div>\n"
            ]
          },
          "metadata": {},
          "execution_count": 132
        }
      ]
    },
    {
      "cell_type": "markdown",
      "source": [
        "At this point we have transformed our data into a decent form. We can choose to store it or do a bit more cleaning and then store.\n",
        "\n",
        "Some basic cleaning that we can do:\n",
        "\n",
        "- Does the data contain any duplicate rows? If yes, remove them.\n",
        "- Does the data contain any NULL entries? If yes, then replace the entry with a default value (we can even remove the row completely).\n",
        "\n",
        "And some basic statistical analysis before storing the data"
      ],
      "metadata": {
        "id": "6_wHZu7Yk0f8"
      }
    },
    {
      "cell_type": "markdown",
      "source": [
        "Duplication Checks and Cleaning"
      ],
      "metadata": {
        "id": "Lu7YpTv2SiiU"
      }
    },
    {
      "cell_type": "code",
      "source": [
        "number_of_duplicates = final_data.duplicated().sum()\n",
        "print (f\" Number of duplicates before : {number_of_duplicates}\")\n",
        "\n",
        "# Delete duplicate rows\n",
        "final_data = final_data.drop_duplicates()\n",
        "\n",
        "number_of_duplicates = final_data.duplicated().sum()\n",
        "print (f\" Number of duplicates after removing : {number_of_duplicates}\")\n",
        "\n",
        "# Rename columns\n",
        "final_data = final_data.rename(columns={\"Population centre[5]\": \"Population center\", \"Province[5]\": \"Province\",\n",
        "                                        \"Size group[5]\": \"Size group\", \"Population (2021)[5]\": \"Population (2021)\",\n",
        "                \"Population (2016)[5]\": \"Population (2016)\", \"Change[5]\": \"Change\", \"Land area (km2)[5]\": \"Land area (km^2)\",\n",
        "                                        \"Population density (/km2)[5]\": \"Population density (/km^2)\"})\n",
        "\n"
      ],
      "metadata": {
        "colab": {
          "base_uri": "https://localhost:8080/"
        },
        "id": "IvtW2f1dSlFh",
        "outputId": "a5c859b3-3566-4d51-a575-9251902bddf0"
      },
      "execution_count": 133,
      "outputs": [
        {
          "output_type": "stream",
          "name": "stdout",
          "text": [
            " Number of duplicates before : 0\n",
            " Number of duplicates after removing : 0\n"
          ]
        }
      ]
    },
    {
      "cell_type": "markdown",
      "source": [
        "Inspecting data and checking noisy entries"
      ],
      "metadata": {
        "id": "yPk7YpueSkpR"
      }
    },
    {
      "cell_type": "code",
      "source": [
        "final_data.info()"
      ],
      "metadata": {
        "colab": {
          "base_uri": "https://localhost:8080/"
        },
        "id": "VKqs8AzmSoMd",
        "outputId": "5f42a7ab-3c98-4a08-c676-140b57f1bf44"
      },
      "execution_count": 134,
      "outputs": [
        {
          "output_type": "stream",
          "name": "stdout",
          "text": [
            "<class 'pandas.core.frame.DataFrame'>\n",
            "Int64Index: 100 entries, 0 to 99\n",
            "Data columns (total 9 columns):\n",
            " #   Column                      Non-Null Count  Dtype \n",
            "---  ------                      --------------  ----- \n",
            " 0   Rank                        100 non-null    object\n",
            " 1   Population center           100 non-null    object\n",
            " 2   Province                    100 non-null    object\n",
            " 3   Size group                  100 non-null    object\n",
            " 4   Population (2021)           100 non-null    object\n",
            " 5   Population (2016)           100 non-null    object\n",
            " 6   Change                      100 non-null    object\n",
            " 7   Land area (km^2)            100 non-null    object\n",
            " 8   Population density (/km^2)  100 non-null    object\n",
            "dtypes: object(9)\n",
            "memory usage: 7.8+ KB\n"
          ]
        }
      ]
    },
    {
      "cell_type": "markdown",
      "source": [
        "Delete the row with NULL entries"
      ],
      "metadata": {
        "id": "nq_CaYgqSuEQ"
      }
    },
    {
      "cell_type": "code",
      "source": [
        "final_data = final_data.dropna()\n",
        "final_data"
      ],
      "metadata": {
        "colab": {
          "base_uri": "https://localhost:8080/",
          "height": 424
        },
        "id": "gsMBb44qSx5U",
        "outputId": "14822344-ad06-4bd3-aed2-73d026ef4828"
      },
      "execution_count": 135,
      "outputs": [
        {
          "output_type": "execute_result",
          "data": {
            "text/plain": [
              "   Rank         Population center          Province   Size group  \\\n",
              "0     1                   Toronto           Ontario  Large urban   \n",
              "1     2                  Montreal            Quebec  Large urban   \n",
              "2     3                 Vancouver  British Columbia  Large urban   \n",
              "3     4                   Calgary           Alberta  Large urban   \n",
              "4     5                  Edmonton           Alberta  Large urban   \n",
              "..  ...                       ...               ...          ...   \n",
              "95   96                Parksville  British Columbia        Small   \n",
              "96   97  Keswick – Elmhurst Beach           Ontario        Small   \n",
              "97   98         Fort Saskatchewan           Alberta        Small   \n",
              "98   99                    Bolton           Ontario        Small   \n",
              "99  100                   Midland           Ontario        Small   \n",
              "\n",
              "   Population (2021) Population (2016)  Change Land area (km^2)  \\\n",
              "0          5,647,656         5,433,590   +3.9%         1,829.05   \n",
              "1          3,675,219         3,528,651   +4.2%         1,382.47   \n",
              "2          2,426,160         2,268,864   +6.9%           911.64   \n",
              "3          1,305,550         1,240,413   +5.3%           621.72   \n",
              "4          1,151,635         1,070,998   +7.5%            627.2   \n",
              "..               ...               ...     ...              ...   \n",
              "95            27,330            25,364   +7.8%            27.45   \n",
              "96            27,145            26,999   +0.5%            16.56   \n",
              "97            26,831            23,944  +12.1%            21.85   \n",
              "98            26,795            26,378   +1.6%            20.71   \n",
              "99            26,246            24,443   +7.4%            27.41   \n",
              "\n",
              "   Population density (/km^2)  \n",
              "0                     3,087.8  \n",
              "1                     2,658.4  \n",
              "2                     2,661.3  \n",
              "3                     2,099.9  \n",
              "4                     1,836.2  \n",
              "..                        ...  \n",
              "95                      995.6  \n",
              "96                    1,639.2  \n",
              "97                    1,228.0  \n",
              "98                    1,293.8  \n",
              "99                      957.5  \n",
              "\n",
              "[100 rows x 9 columns]"
            ],
            "text/html": [
              "\n",
              "  <div id=\"df-b566a1aa-b32f-42cd-bb91-cd593f414b2c\" class=\"colab-df-container\">\n",
              "    <div>\n",
              "<style scoped>\n",
              "    .dataframe tbody tr th:only-of-type {\n",
              "        vertical-align: middle;\n",
              "    }\n",
              "\n",
              "    .dataframe tbody tr th {\n",
              "        vertical-align: top;\n",
              "    }\n",
              "\n",
              "    .dataframe thead th {\n",
              "        text-align: right;\n",
              "    }\n",
              "</style>\n",
              "<table border=\"1\" class=\"dataframe\">\n",
              "  <thead>\n",
              "    <tr style=\"text-align: right;\">\n",
              "      <th></th>\n",
              "      <th>Rank</th>\n",
              "      <th>Population center</th>\n",
              "      <th>Province</th>\n",
              "      <th>Size group</th>\n",
              "      <th>Population (2021)</th>\n",
              "      <th>Population (2016)</th>\n",
              "      <th>Change</th>\n",
              "      <th>Land area (km^2)</th>\n",
              "      <th>Population density (/km^2)</th>\n",
              "    </tr>\n",
              "  </thead>\n",
              "  <tbody>\n",
              "    <tr>\n",
              "      <th>0</th>\n",
              "      <td>1</td>\n",
              "      <td>Toronto</td>\n",
              "      <td>Ontario</td>\n",
              "      <td>Large urban</td>\n",
              "      <td>5,647,656</td>\n",
              "      <td>5,433,590</td>\n",
              "      <td>+3.9%</td>\n",
              "      <td>1,829.05</td>\n",
              "      <td>3,087.8</td>\n",
              "    </tr>\n",
              "    <tr>\n",
              "      <th>1</th>\n",
              "      <td>2</td>\n",
              "      <td>Montreal</td>\n",
              "      <td>Quebec</td>\n",
              "      <td>Large urban</td>\n",
              "      <td>3,675,219</td>\n",
              "      <td>3,528,651</td>\n",
              "      <td>+4.2%</td>\n",
              "      <td>1,382.47</td>\n",
              "      <td>2,658.4</td>\n",
              "    </tr>\n",
              "    <tr>\n",
              "      <th>2</th>\n",
              "      <td>3</td>\n",
              "      <td>Vancouver</td>\n",
              "      <td>British Columbia</td>\n",
              "      <td>Large urban</td>\n",
              "      <td>2,426,160</td>\n",
              "      <td>2,268,864</td>\n",
              "      <td>+6.9%</td>\n",
              "      <td>911.64</td>\n",
              "      <td>2,661.3</td>\n",
              "    </tr>\n",
              "    <tr>\n",
              "      <th>3</th>\n",
              "      <td>4</td>\n",
              "      <td>Calgary</td>\n",
              "      <td>Alberta</td>\n",
              "      <td>Large urban</td>\n",
              "      <td>1,305,550</td>\n",
              "      <td>1,240,413</td>\n",
              "      <td>+5.3%</td>\n",
              "      <td>621.72</td>\n",
              "      <td>2,099.9</td>\n",
              "    </tr>\n",
              "    <tr>\n",
              "      <th>4</th>\n",
              "      <td>5</td>\n",
              "      <td>Edmonton</td>\n",
              "      <td>Alberta</td>\n",
              "      <td>Large urban</td>\n",
              "      <td>1,151,635</td>\n",
              "      <td>1,070,998</td>\n",
              "      <td>+7.5%</td>\n",
              "      <td>627.2</td>\n",
              "      <td>1,836.2</td>\n",
              "    </tr>\n",
              "    <tr>\n",
              "      <th>...</th>\n",
              "      <td>...</td>\n",
              "      <td>...</td>\n",
              "      <td>...</td>\n",
              "      <td>...</td>\n",
              "      <td>...</td>\n",
              "      <td>...</td>\n",
              "      <td>...</td>\n",
              "      <td>...</td>\n",
              "      <td>...</td>\n",
              "    </tr>\n",
              "    <tr>\n",
              "      <th>95</th>\n",
              "      <td>96</td>\n",
              "      <td>Parksville</td>\n",
              "      <td>British Columbia</td>\n",
              "      <td>Small</td>\n",
              "      <td>27,330</td>\n",
              "      <td>25,364</td>\n",
              "      <td>+7.8%</td>\n",
              "      <td>27.45</td>\n",
              "      <td>995.6</td>\n",
              "    </tr>\n",
              "    <tr>\n",
              "      <th>96</th>\n",
              "      <td>97</td>\n",
              "      <td>Keswick – Elmhurst Beach</td>\n",
              "      <td>Ontario</td>\n",
              "      <td>Small</td>\n",
              "      <td>27,145</td>\n",
              "      <td>26,999</td>\n",
              "      <td>+0.5%</td>\n",
              "      <td>16.56</td>\n",
              "      <td>1,639.2</td>\n",
              "    </tr>\n",
              "    <tr>\n",
              "      <th>97</th>\n",
              "      <td>98</td>\n",
              "      <td>Fort Saskatchewan</td>\n",
              "      <td>Alberta</td>\n",
              "      <td>Small</td>\n",
              "      <td>26,831</td>\n",
              "      <td>23,944</td>\n",
              "      <td>+12.1%</td>\n",
              "      <td>21.85</td>\n",
              "      <td>1,228.0</td>\n",
              "    </tr>\n",
              "    <tr>\n",
              "      <th>98</th>\n",
              "      <td>99</td>\n",
              "      <td>Bolton</td>\n",
              "      <td>Ontario</td>\n",
              "      <td>Small</td>\n",
              "      <td>26,795</td>\n",
              "      <td>26,378</td>\n",
              "      <td>+1.6%</td>\n",
              "      <td>20.71</td>\n",
              "      <td>1,293.8</td>\n",
              "    </tr>\n",
              "    <tr>\n",
              "      <th>99</th>\n",
              "      <td>100</td>\n",
              "      <td>Midland</td>\n",
              "      <td>Ontario</td>\n",
              "      <td>Small</td>\n",
              "      <td>26,246</td>\n",
              "      <td>24,443</td>\n",
              "      <td>+7.4%</td>\n",
              "      <td>27.41</td>\n",
              "      <td>957.5</td>\n",
              "    </tr>\n",
              "  </tbody>\n",
              "</table>\n",
              "<p>100 rows × 9 columns</p>\n",
              "</div>\n",
              "    <div class=\"colab-df-buttons\">\n",
              "\n",
              "  <div class=\"colab-df-container\">\n",
              "    <button class=\"colab-df-convert\" onclick=\"convertToInteractive('df-b566a1aa-b32f-42cd-bb91-cd593f414b2c')\"\n",
              "            title=\"Convert this dataframe to an interactive table.\"\n",
              "            style=\"display:none;\">\n",
              "\n",
              "  <svg xmlns=\"http://www.w3.org/2000/svg\" height=\"24px\" viewBox=\"0 -960 960 960\">\n",
              "    <path d=\"M120-120v-720h720v720H120Zm60-500h600v-160H180v160Zm220 220h160v-160H400v160Zm0 220h160v-160H400v160ZM180-400h160v-160H180v160Zm440 0h160v-160H620v160ZM180-180h160v-160H180v160Zm440 0h160v-160H620v160Z\"/>\n",
              "  </svg>\n",
              "    </button>\n",
              "\n",
              "  <style>\n",
              "    .colab-df-container {\n",
              "      display:flex;\n",
              "      gap: 12px;\n",
              "    }\n",
              "\n",
              "    .colab-df-convert {\n",
              "      background-color: #E8F0FE;\n",
              "      border: none;\n",
              "      border-radius: 50%;\n",
              "      cursor: pointer;\n",
              "      display: none;\n",
              "      fill: #1967D2;\n",
              "      height: 32px;\n",
              "      padding: 0 0 0 0;\n",
              "      width: 32px;\n",
              "    }\n",
              "\n",
              "    .colab-df-convert:hover {\n",
              "      background-color: #E2EBFA;\n",
              "      box-shadow: 0px 1px 2px rgba(60, 64, 67, 0.3), 0px 1px 3px 1px rgba(60, 64, 67, 0.15);\n",
              "      fill: #174EA6;\n",
              "    }\n",
              "\n",
              "    .colab-df-buttons div {\n",
              "      margin-bottom: 4px;\n",
              "    }\n",
              "\n",
              "    [theme=dark] .colab-df-convert {\n",
              "      background-color: #3B4455;\n",
              "      fill: #D2E3FC;\n",
              "    }\n",
              "\n",
              "    [theme=dark] .colab-df-convert:hover {\n",
              "      background-color: #434B5C;\n",
              "      box-shadow: 0px 1px 3px 1px rgba(0, 0, 0, 0.15);\n",
              "      filter: drop-shadow(0px 1px 2px rgba(0, 0, 0, 0.3));\n",
              "      fill: #FFFFFF;\n",
              "    }\n",
              "  </style>\n",
              "\n",
              "    <script>\n",
              "      const buttonEl =\n",
              "        document.querySelector('#df-b566a1aa-b32f-42cd-bb91-cd593f414b2c button.colab-df-convert');\n",
              "      buttonEl.style.display =\n",
              "        google.colab.kernel.accessAllowed ? 'block' : 'none';\n",
              "\n",
              "      async function convertToInteractive(key) {\n",
              "        const element = document.querySelector('#df-b566a1aa-b32f-42cd-bb91-cd593f414b2c');\n",
              "        const dataTable =\n",
              "          await google.colab.kernel.invokeFunction('convertToInteractive',\n",
              "                                                    [key], {});\n",
              "        if (!dataTable) return;\n",
              "\n",
              "        const docLinkHtml = 'Like what you see? Visit the ' +\n",
              "          '<a target=\"_blank\" href=https://colab.research.google.com/notebooks/data_table.ipynb>data table notebook</a>'\n",
              "          + ' to learn more about interactive tables.';\n",
              "        element.innerHTML = '';\n",
              "        dataTable['output_type'] = 'display_data';\n",
              "        await google.colab.output.renderOutput(dataTable, element);\n",
              "        const docLink = document.createElement('div');\n",
              "        docLink.innerHTML = docLinkHtml;\n",
              "        element.appendChild(docLink);\n",
              "      }\n",
              "    </script>\n",
              "  </div>\n",
              "\n",
              "\n",
              "<div id=\"df-2d7bc5db-2d88-4592-81b5-4111bf51c0a0\">\n",
              "  <button class=\"colab-df-quickchart\" onclick=\"quickchart('df-2d7bc5db-2d88-4592-81b5-4111bf51c0a0')\"\n",
              "            title=\"Suggest charts.\"\n",
              "            style=\"display:none;\">\n",
              "\n",
              "<svg xmlns=\"http://www.w3.org/2000/svg\" height=\"24px\"viewBox=\"0 0 24 24\"\n",
              "     width=\"24px\">\n",
              "    <g>\n",
              "        <path d=\"M19 3H5c-1.1 0-2 .9-2 2v14c0 1.1.9 2 2 2h14c1.1 0 2-.9 2-2V5c0-1.1-.9-2-2-2zM9 17H7v-7h2v7zm4 0h-2V7h2v10zm4 0h-2v-4h2v4z\"/>\n",
              "    </g>\n",
              "</svg>\n",
              "  </button>\n",
              "\n",
              "<style>\n",
              "  .colab-df-quickchart {\n",
              "      --bg-color: #E8F0FE;\n",
              "      --fill-color: #1967D2;\n",
              "      --hover-bg-color: #E2EBFA;\n",
              "      --hover-fill-color: #174EA6;\n",
              "      --disabled-fill-color: #AAA;\n",
              "      --disabled-bg-color: #DDD;\n",
              "  }\n",
              "\n",
              "  [theme=dark] .colab-df-quickchart {\n",
              "      --bg-color: #3B4455;\n",
              "      --fill-color: #D2E3FC;\n",
              "      --hover-bg-color: #434B5C;\n",
              "      --hover-fill-color: #FFFFFF;\n",
              "      --disabled-bg-color: #3B4455;\n",
              "      --disabled-fill-color: #666;\n",
              "  }\n",
              "\n",
              "  .colab-df-quickchart {\n",
              "    background-color: var(--bg-color);\n",
              "    border: none;\n",
              "    border-radius: 50%;\n",
              "    cursor: pointer;\n",
              "    display: none;\n",
              "    fill: var(--fill-color);\n",
              "    height: 32px;\n",
              "    padding: 0;\n",
              "    width: 32px;\n",
              "  }\n",
              "\n",
              "  .colab-df-quickchart:hover {\n",
              "    background-color: var(--hover-bg-color);\n",
              "    box-shadow: 0 1px 2px rgba(60, 64, 67, 0.3), 0 1px 3px 1px rgba(60, 64, 67, 0.15);\n",
              "    fill: var(--button-hover-fill-color);\n",
              "  }\n",
              "\n",
              "  .colab-df-quickchart-complete:disabled,\n",
              "  .colab-df-quickchart-complete:disabled:hover {\n",
              "    background-color: var(--disabled-bg-color);\n",
              "    fill: var(--disabled-fill-color);\n",
              "    box-shadow: none;\n",
              "  }\n",
              "\n",
              "  .colab-df-spinner {\n",
              "    border: 2px solid var(--fill-color);\n",
              "    border-color: transparent;\n",
              "    border-bottom-color: var(--fill-color);\n",
              "    animation:\n",
              "      spin 1s steps(1) infinite;\n",
              "  }\n",
              "\n",
              "  @keyframes spin {\n",
              "    0% {\n",
              "      border-color: transparent;\n",
              "      border-bottom-color: var(--fill-color);\n",
              "      border-left-color: var(--fill-color);\n",
              "    }\n",
              "    20% {\n",
              "      border-color: transparent;\n",
              "      border-left-color: var(--fill-color);\n",
              "      border-top-color: var(--fill-color);\n",
              "    }\n",
              "    30% {\n",
              "      border-color: transparent;\n",
              "      border-left-color: var(--fill-color);\n",
              "      border-top-color: var(--fill-color);\n",
              "      border-right-color: var(--fill-color);\n",
              "    }\n",
              "    40% {\n",
              "      border-color: transparent;\n",
              "      border-right-color: var(--fill-color);\n",
              "      border-top-color: var(--fill-color);\n",
              "    }\n",
              "    60% {\n",
              "      border-color: transparent;\n",
              "      border-right-color: var(--fill-color);\n",
              "    }\n",
              "    80% {\n",
              "      border-color: transparent;\n",
              "      border-right-color: var(--fill-color);\n",
              "      border-bottom-color: var(--fill-color);\n",
              "    }\n",
              "    90% {\n",
              "      border-color: transparent;\n",
              "      border-bottom-color: var(--fill-color);\n",
              "    }\n",
              "  }\n",
              "</style>\n",
              "\n",
              "  <script>\n",
              "    async function quickchart(key) {\n",
              "      const quickchartButtonEl =\n",
              "        document.querySelector('#' + key + ' button');\n",
              "      quickchartButtonEl.disabled = true;  // To prevent multiple clicks.\n",
              "      quickchartButtonEl.classList.add('colab-df-spinner');\n",
              "      try {\n",
              "        const charts = await google.colab.kernel.invokeFunction(\n",
              "            'suggestCharts', [key], {});\n",
              "      } catch (error) {\n",
              "        console.error('Error during call to suggestCharts:', error);\n",
              "      }\n",
              "      quickchartButtonEl.classList.remove('colab-df-spinner');\n",
              "      quickchartButtonEl.classList.add('colab-df-quickchart-complete');\n",
              "    }\n",
              "    (() => {\n",
              "      let quickchartButtonEl =\n",
              "        document.querySelector('#df-2d7bc5db-2d88-4592-81b5-4111bf51c0a0 button');\n",
              "      quickchartButtonEl.style.display =\n",
              "        google.colab.kernel.accessAllowed ? 'block' : 'none';\n",
              "    })();\n",
              "  </script>\n",
              "</div>\n",
              "    </div>\n",
              "  </div>\n"
            ]
          },
          "metadata": {},
          "execution_count": 135
        }
      ]
    },
    {
      "cell_type": "markdown",
      "source": [
        "## 2.2 Load"
      ],
      "metadata": {
        "id": "j3OPszL6S5G1"
      }
    },
    {
      "cell_type": "code",
      "source": [
        "final_data.to_csv(\"Largest_Population_Centres_in_Canada.csv\")"
      ],
      "metadata": {
        "id": "LsIVhLqjS7zw"
      },
      "execution_count": 136,
      "outputs": []
    },
    {
      "cell_type": "markdown",
      "source": [
        "## 3. Analysis: Summary and Visualizations"
      ],
      "metadata": {
        "id": "Yd7l9GbETnrG"
      }
    },
    {
      "cell_type": "markdown",
      "source": [
        "### Plot a Bar Graph\n",
        "\n"
      ],
      "metadata": {
        "id": "l8AYHiWJURAF"
      }
    },
    {
      "cell_type": "code",
      "source": [
        "## Import libraries\n",
        "## if you see any import error, install libraries through pip install command\n",
        "import pandas as pd\n",
        "import numpy as np\n",
        "import scipy\n",
        "import seaborn as sns\n",
        "from matplotlib import pyplot as plt\n",
        "print (\"Imported all libraries successfully...\")\n"
      ],
      "metadata": {
        "colab": {
          "base_uri": "https://localhost:8080/"
        },
        "id": "8vma5gFMGCjj",
        "outputId": "1141a4cb-e519-4493-a567-3fa7770e75b2"
      },
      "execution_count": 153,
      "outputs": [
        {
          "output_type": "stream",
          "name": "stdout",
          "text": [
            "Imported all libraries successfully...\n"
          ]
        }
      ]
    },
    {
      "cell_type": "code",
      "source": [
        "#Plot Population Density of Top 10 Largest Population Centers in Canada.\n",
        "\n",
        "#Convert Population density column data in floating point numbers\n",
        "final_data['Population (2021)'] = final_data['Population (2021)'].astype(float)\n",
        "\n",
        "center_column = final_data[\"Population center\"]\n",
        "population_column = final_data[\"Population (2021)\"]\n",
        "\n",
        "selected_center = center_column[0:10]\n",
        "selected_population = population_column[0:10]\n",
        "\n",
        "# Now plot our bar graph\n",
        "plt.bar(selected_center, selected_population, color = 'pink', width = 0.5)\n",
        "\n",
        "plt.xlabel(\"Population Center\")\n",
        "plt.ylabel(\"Population in millions (2021)\")\n",
        "\n",
        "\n",
        "# We can add a title too\n",
        "plt.title(\"Population (in Millions) of Top 10 Largest Population Centers of Canada in 2021\")\n",
        "\n",
        "plt.xticks(rotation=90)\n"
      ],
      "metadata": {
        "colab": {
          "base_uri": "https://localhost:8080/",
          "height": 790
        },
        "id": "htmpLW0mUQS2",
        "outputId": "5c8dc3ba-8ba5-4734-e3f2-08734d82a5d2"
      },
      "execution_count": 226,
      "outputs": [
        {
          "output_type": "execute_result",
          "data": {
            "text/plain": [
              "([0, 1, 2, 3, 4, 5, 6, 7, 8, 9],\n",
              " [Text(0, 0, 'Toronto'),\n",
              "  Text(1, 0, 'Montreal'),\n",
              "  Text(2, 0, 'Vancouver'),\n",
              "  Text(3, 0, 'Calgary'),\n",
              "  Text(4, 0, 'Edmonton'),\n",
              "  Text(5, 0, 'Ottawa–Gatineau'),\n",
              "  Text(6, 0, 'Winnipeg'),\n",
              "  Text(7, 0, 'Quebec City'),\n",
              "  Text(8, 0, 'Hamilton'),\n",
              "  Text(9, 0, 'Kitchener')])"
            ]
          },
          "metadata": {},
          "execution_count": 226
        },
        {
          "output_type": "display_data",
          "data": {
            "text/plain": [
              "<Figure size 640x480 with 1 Axes>"
            ],
            "image/png": "[encoded data removed]"
          },
          "metadata": {}
        }
      ]
    },
    {
      "cell_type": "markdown",
      "source": [
        "### Plot a Box Plot for Population in 2021\n",
        "\n"
      ],
      "metadata": {
        "id": "jd1_MelziKvO"
      }
    },
    {
      "cell_type": "code",
      "source": [
        "pop_2021_column = final_data[\"Population (2021)\"]\n",
        "\n",
        "plt.boxplot(pop_2021_column)\n",
        "\n",
        "plt.xlabel(\"Population of Large Population Centers (2021)\")\n",
        "plt.ylabel(\"Millions\")\n",
        "\n"
      ],
      "metadata": {
        "colab": {
          "base_uri": "https://localhost:8080/",
          "height": 483
        },
        "id": "y9N4V3R0iKB0",
        "outputId": "b57d6113-afad-4729-9f05-c8ff9d1ba145"
      },
      "execution_count": 234,
      "outputs": [
        {
          "output_type": "execute_result",
          "data": {
            "text/plain": [
              "Text(0, 0.5, 'Millions')"
            ]
          },
          "metadata": {},
          "execution_count": 234
        },
        {
          "output_type": "display_data",
          "data": {
            "text/plain": [
              "<Figure size 640x480 with 1 Axes>"
            ],
            "image/png": "[encoded data removed]"
          },
          "metadata": {}
        }
      ]
    },
    {
      "cell_type": "markdown",
      "source": [
        "### Basic Descriptive Statistics\n"
      ],
      "metadata": {
        "id": "1vdsKXK7g3Bh"
      }
    },
    {
      "cell_type": "code",
      "source": [
        "final_data[\"Population (2021)\"].describe()\n"
      ],
      "metadata": {
        "colab": {
          "base_uri": "https://localhost:8080/"
        },
        "id": "kbBEk-RxhVR6",
        "outputId": "ebf4cb03-bc01-4f22-8a2a-bf5be08018b7"
      },
      "execution_count": 227,
      "outputs": [
        {
          "output_type": "execute_result",
          "data": {
            "text/plain": [
              "count    1.000000e+02\n",
              "mean     2.602907e+05\n",
              "std      7.241524e+05\n",
              "min      2.624600e+04\n",
              "25%      3.856300e+04\n",
              "50%      6.613100e+04\n",
              "75%      1.291178e+05\n",
              "max      5.647656e+06\n",
              "Name: Population (2021), dtype: float64"
            ]
          },
          "metadata": {},
          "execution_count": 227
        }
      ]
    },
    {
      "cell_type": "code",
      "source": [
        "final_data[\"Population (2016)\"].describe()"
      ],
      "metadata": {
        "colab": {
          "base_uri": "https://localhost:8080/"
        },
        "id": "8puR_8AghoHc",
        "outputId": "0605b68a-e813-4941-b371-00f1e56818e6"
      },
      "execution_count": 228,
      "outputs": [
        {
          "output_type": "execute_result",
          "data": {
            "text/plain": [
              "count    1.000000e+02\n",
              "mean     2.460554e+05\n",
              "std      6.933066e+05\n",
              "min      2.394400e+04\n",
              "25%      3.634350e+04\n",
              "50%      6.306100e+04\n",
              "75%      1.198365e+05\n",
              "max      5.433590e+06\n",
              "Name: Population (2016), dtype: float64"
            ]
          },
          "metadata": {},
          "execution_count": 228
        }
      ]
    },
    {
      "cell_type": "markdown",
      "source": [
        "**Analysis and Insights:** The data are indicative that the mean population in 2021 is greater than the mean population of large population centers in 2016 which means that overall, large population centers in Canada have experienced a growth in mean population. This can also be seen in the positive growth of all descriptive measures including the overall range in population and the standard deviation of the data as well.\n"
      ],
      "metadata": {
        "id": "kEoahHs2jVne"
      }
    }
  ]
}